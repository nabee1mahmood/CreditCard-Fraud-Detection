version https://git-lfs.github.com/spec/v1
oid sha256:aac7bfb9ab720f9d91a515802ebd3078ce5abd4371d3d7f164acc2e8d1702c66
size 576496
